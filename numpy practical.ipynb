{
 "cells": [
  {
   "cell_type": "code",
   "execution_count": 1,
   "metadata": {},
   "outputs": [],
   "source": [
    "import numpy as np"
   ]
  },
  {
   "cell_type": "code",
   "execution_count": 2,
   "metadata": {},
   "outputs": [],
   "source": [
    "# Create a 1-D array\n",
    "arr = np.array([10, 20, 30, 40, 50])"
   ]
  },
  {
   "cell_type": "code",
   "execution_count": 3,
   "metadata": {},
   "outputs": [
    {
     "name": "stdout",
     "output_type": "stream",
     "text": [
      "Original array: [10 20 30 40 50]\n"
     ]
    }
   ],
   "source": [
    "# Mathematical Operations\n",
    "print(\"Original array:\", arr)"
   ]
  },
  {
   "cell_type": "code",
   "execution_count": 4,
   "metadata": {},
   "outputs": [
    {
     "name": "stdout",
     "output_type": "stream",
     "text": [
      "Adding 5 to each element: [15 25 35 45 55]\n"
     ]
    }
   ],
   "source": [
    "# 1. Add a scalar to each element\n",
    "print(\"Adding 5 to each element:\", arr + 5)"
   ]
  },
  {
   "cell_type": "code",
   "execution_count": 5,
   "metadata": {},
   "outputs": [
    {
     "name": "stdout",
     "output_type": "stream",
     "text": [
      "Subtracting 10 from each element: [ 0 10 20 30 40]\n"
     ]
    }
   ],
   "source": [
    "# 2. Subtract a scalar from each element\n",
    "print(\"Subtracting 10 from each element:\", arr - 10)"
   ]
  },
  {
   "cell_type": "code",
   "execution_count": 6,
   "metadata": {},
   "outputs": [
    {
     "name": "stdout",
     "output_type": "stream",
     "text": [
      "Multiplying each element by 2: [ 20  40  60  80 100]\n"
     ]
    }
   ],
   "source": [
    "# 3. Multiply each element by a scalar\n",
    "print(\"Multiplying each element by 2:\", arr * 2)"
   ]
  },
  {
   "cell_type": "code",
   "execution_count": 7,
   "metadata": {},
   "outputs": [
    {
     "name": "stdout",
     "output_type": "stream",
     "text": [
      "Dividing each element by 5: [ 2.  4.  6.  8. 10.]\n"
     ]
    }
   ],
   "source": [
    "# 4. Divide each element by a scalar\n",
    "print(\"Dividing each element by 5:\", arr / 5)"
   ]
  },
  {
   "cell_type": "code",
   "execution_count": 8,
   "metadata": {},
   "outputs": [
    {
     "name": "stdout",
     "output_type": "stream",
     "text": [
      "Squaring each element: [ 100  400  900 1600 2500]\n"
     ]
    }
   ],
   "source": [
    "# 5. Square each element\n",
    "print(\"Squaring each element:\", arr ** 2)\n"
   ]
  },
  {
   "cell_type": "code",
   "execution_count": 9,
   "metadata": {},
   "outputs": [
    {
     "name": "stdout",
     "output_type": "stream",
     "text": [
      "Mean of the array: 30.0\n"
     ]
    }
   ],
   "source": [
    "# Statistical Operations\n",
    "# 6. Mean of the array\n",
    "print(\"Mean of the array:\", np.mean(arr))"
   ]
  },
  {
   "cell_type": "code",
   "execution_count": 10,
   "metadata": {},
   "outputs": [
    {
     "name": "stdout",
     "output_type": "stream",
     "text": [
      "Median of the array: 30.0\n"
     ]
    }
   ],
   "source": [
    "# 7. Median of the array\n",
    "print(\"Median of the array:\", np.median(arr))"
   ]
  },
  {
   "cell_type": "code",
   "execution_count": 11,
   "metadata": {},
   "outputs": [
    {
     "name": "stdout",
     "output_type": "stream",
     "text": [
      "Standard deviation of the array: 14.142135623730951\n"
     ]
    }
   ],
   "source": [
    "# 8. Standard deviation\n",
    "print(\"Standard deviation of the array:\", np.std(arr))"
   ]
  },
  {
   "cell_type": "code",
   "execution_count": 12,
   "metadata": {},
   "outputs": [
    {
     "name": "stdout",
     "output_type": "stream",
     "text": [
      "Variance of the array: 200.0\n"
     ]
    }
   ],
   "source": [
    "# 9. Variance\n",
    "print(\"Variance of the array:\", np.var(arr))"
   ]
  },
  {
   "cell_type": "code",
   "execution_count": 13,
   "metadata": {},
   "outputs": [
    {
     "name": "stdout",
     "output_type": "stream",
     "text": [
      "Sum of all elements: 150\n"
     ]
    }
   ],
   "source": [
    "# 10. Sum of all elements\n",
    "print(\"Sum of all elements:\", np.sum(arr))\n"
   ]
  },
  {
   "cell_type": "code",
   "execution_count": 14,
   "metadata": {},
   "outputs": [
    {
     "name": "stdout",
     "output_type": "stream",
     "text": [
      "Maximum value in the array: 50\n",
      "Minimum value in the array: 10\n"
     ]
    }
   ],
   "source": [
    "# 11. Maximum and Minimum value\n",
    "print(\"Maximum value in the array:\", np.max(arr))\n",
    "print(\"Minimum value in the array:\", np.min(arr))\n"
   ]
  },
  {
   "cell_type": "code",
   "execution_count": 15,
   "metadata": {},
   "outputs": [
    {
     "name": "stdout",
     "output_type": "stream",
     "text": [
      "Cumulative sum of the elements: [ 10  30  60 100 150]\n"
     ]
    }
   ],
   "source": [
    "# 12. Cumulative sum of the elements\n",
    "print(\"Cumulative sum of the elements:\", np.cumsum(arr))"
   ]
  },
  {
   "cell_type": "code",
   "execution_count": 16,
   "metadata": {},
   "outputs": [
    {
     "name": "stdout",
     "output_type": "stream",
     "text": [
      "Cumulative product of the elements: [      10      200     6000   240000 12000000]\n"
     ]
    }
   ],
   "source": [
    "# 13. Cumulative product of the elements\n",
    "print(\"Cumulative product of the elements:\", np.cumprod(arr))"
   ]
  },
  {
   "cell_type": "code",
   "execution_count": 17,
   "metadata": {},
   "outputs": [
    {
     "name": "stdout",
     "output_type": "stream",
     "text": [
      "Sorted array: [10 20 30 40 50]\n"
     ]
    }
   ],
   "source": [
    "# 14. Sorting the array\n",
    "print(\"Sorted array:\", np.sort(arr))"
   ]
  }
 ],
 "metadata": {
  "kernelspec": {
   "display_name": "Python 3",
   "language": "python",
   "name": "python3"
  },
  "language_info": {
   "codemirror_mode": {
    "name": "ipython",
    "version": 3
   },
   "file_extension": ".py",
   "mimetype": "text/x-python",
   "name": "python",
   "nbconvert_exporter": "python",
   "pygments_lexer": "ipython3",
   "version": "3.11.5"
  }
 },
 "nbformat": 4,
 "nbformat_minor": 2
}
