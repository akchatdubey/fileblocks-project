{
 "cells": [
  {
   "cell_type": "code",
   "execution_count": 9,
   "metadata": {},
   "outputs": [],
   "source": [
    "from tkinter import*\n",
    "scr=Tk()\n",
    "scr.title(\"python and GUI - Start\")\n",
    "scr.geometry('600x300')\n",
    "scr.mainloop()"
   ]
  },
  {
   "cell_type": "code",
   "execution_count": 11,
   "metadata": {},
   "outputs": [],
   "source": [
    "scr=Tk()\n",
    "scr.title(\"Button - Tkinter Widgetes\")\n",
    "def helloworld():\n",
    " print(\"Hello Gui\")\n",
    "btn=Button(scr,text=\"Hello\",fg=\"#FF0000\",padx=100,pady=100,command=\"helloworld\")\n",
    "btn.pack()\n",
    "scr.mainloop()\n"
   ]
  },
  {
   "cell_type": "code",
   "execution_count": 12,
   "metadata": {},
   "outputs": [
    {
     "name": "stdout",
     "output_type": "stream",
     "text": [
      "Hello GUI\n",
      "Hello GUI\n",
      "Goodbye GUI\n",
      "Goodbye GUI\n",
      "Hello GUI\n",
      "Goodbye GUI\n"
     ]
    }
   ],
   "source": [
    "from tkinter import Tk, Button\n",
    "scr = Tk()\n",
    "scr.title(\"Button - Tkinter Widgets\")\n",
    "def helloworld():\n",
    "    print(\"Hello GUI\")\n",
    "btn1 = Button(scr, text=\"Hello\", fg=\"#FF0000\", padx=100, pady=100, command=helloworld)\n",
    "btn1.pack()\n",
    "def goodbye():\n",
    "    print(\"Goodbye GUI\")\n",
    "btn2 = Button(scr, text=\"Goodbye\", fg=\"#0000FF\", padx=100, pady=100, command=goodbye)\n",
    "btn2.pack()\n",
    "scr.mainloop()\n"
   ]
  },
  {
   "cell_type": "code",
   "execution_count": null,
   "metadata": {},
   "outputs": [],
   "source": [
    "#Create window using Tkinter with two Buttons with process control."
   ]
  }
 ],
 "metadata": {
  "kernelspec": {
   "display_name": "Python 3",
   "language": "python",
   "name": "python3"
  },
  "language_info": {
   "codemirror_mode": {
    "name": "ipython",
    "version": 3
   },
   "file_extension": ".py",
   "mimetype": "text/x-python",
   "name": "python",
   "nbconvert_exporter": "python",
   "pygments_lexer": "ipython3",
   "version": "3.11.5"
  }
 },
 "nbformat": 4,
 "nbformat_minor": 2
}
