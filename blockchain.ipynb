{
 "cells": [
  {
   "cell_type": "code",
   "execution_count": 1,
   "metadata": {},
   "outputs": [],
   "source": [
    "import hashlib\n",
    "import datetime as date"
   ]
  },
  {
   "cell_type": "markdown",
   "metadata": {},
   "source": []
  },
  {
   "cell_type": "code",
   "execution_count": 2,
   "metadata": {},
   "outputs": [],
   "source": [
    "class Block:\n",
    "    def __init__(self, index, timestamp, data, previous_hash):\n",
    "        self.index = index\n",
    "        self.timestamp = timestamp\n",
    "        self.data = data\n",
    "        self.previous_hash = previous_hash\n",
    "        self.hash = self.calculate_hash()\n",
    "\n",
    "    def calculate_hash(self):\n",
    "        hash_string = str(self.index) + str(self.timestamp) + str(self.data) + str(self.previous_hash)\n",
    "        return hashlib.sha256(hash_string.encode()).hexdigest()"
   ]
  },
  {
   "cell_type": "code",
   "execution_count": 3,
   "metadata": {},
   "outputs": [],
   "source": [
    "class Blockchain:\n",
    "    def __init__(self):\n",
    "        self.chain = [self.create_genesis_block()]\n",
    "\n",
    "    def create_genesis_block(self):\n",
    "        return Block(0, date.datetime.now(), \"Genesis Block\", \"0\")\n",
    "\n",
    "    def get_latest_block(self):\n",
    "        return self.chain[-1]\n",
    "\n",
    "    def add_block(self, new_block):\n",
    "        new_block.previous_hash = self.get_latest_block().hash\n",
    "        new_block.hash = new_block.calculate_hash()\n",
    "        self.chain.append(new_block)\n",
    "\n",
    "    def is_valid(self):\n",
    "        for i in range(1, len(self.chain)):\n",
    "            current_block = self.chain[i]\n",
    "            previous_block = self.chain[i-1]\n",
    "\n",
    "            if current_block.hash != current_block.calculate_hash():\n",
    "                return False\n",
    "\n",
    "            if current_block.previous_hash != previous_block.hash:\n",
    "                return False\n",
    "\n",
    "        return True"
   ]
  },
  {
   "cell_type": "code",
   "execution_count": 4,
   "metadata": {},
   "outputs": [
    {
     "name": "stdout",
     "output_type": "stream",
     "text": [
      "Block #0\n",
      "Timestamp: 2024-05-03 19:07:35.457954\n",
      "Data: Genesis Block\n",
      "Hash: d0796f7c1b26709e4dcb981af0e397abf39c6276d3ca66c1c3dcccc4e7ad7dad\n",
      "Previous Hash: 0\n",
      "\n",
      "\n",
      "Block #1\n",
      "Timestamp: 2024-05-03 19:07:35.457954\n",
      "Data: Transaction Data 1\n",
      "Hash: b3b2b5a73694d53a15b2a1be8f0dd12b22a838cff95b59db3212dbed4c1af0b4\n",
      "Previous Hash: d0796f7c1b26709e4dcb981af0e397abf39c6276d3ca66c1c3dcccc4e7ad7dad\n",
      "\n",
      "\n",
      "Block #2\n",
      "Timestamp: 2024-05-03 19:07:35.457954\n",
      "Data: Transaction Data 2\n",
      "Hash: 7502d59bcd052022dd033b26a4033ef7138c105d366239ded217f742859c0abe\n",
      "Previous Hash: b3b2b5a73694d53a15b2a1be8f0dd12b22a838cff95b59db3212dbed4c1af0b4\n",
      "\n",
      "\n",
      "Block #3\n",
      "Timestamp: 2024-05-03 19:07:35.457954\n",
      "Data: Transaction Data 3\n",
      "Hash: 8d9cc17698a1c497521504a8383926a30289b4cd6565e731031a24fc49979239\n",
      "Previous Hash: 7502d59bcd052022dd033b26a4033ef7138c105d366239ded217f742859c0abe\n",
      "\n",
      "\n"
     ]
    }
   ],
   "source": [
    "# Create the blockchain\n",
    "blockchain = Blockchain()\n",
    "\n",
    "# Add blocks to the blockchain\n",
    "blockchain.add_block(Block(1, date.datetime.now(), \"Transaction Data 1\", \"\"))\n",
    "blockchain.add_block(Block(2, date.datetime.now(), \"Transaction Data 2\", \"\"))\n",
    "blockchain.add_block(Block(3, date.datetime.now(), \"Transaction Data 3\", \"\"))\n",
    "\n",
    "# Print the contents of the blockchain\n",
    "for block in blockchain.chain:\n",
    "    print(\"Block #\" + str(block.index))\n",
    "    print(\"Timestamp: \" + str(block.timestamp))\n",
    "    print(\"Data: \" + block.data)\n",
    "    print(\"Hash: \" + block.hash)\n",
    "    print(\"Previous Hash: \" + block.previous_hash)\n",
    "    print(\"\\n\")"
   ]
  },
  {
   "cell_type": "code",
   "execution_count": null,
   "metadata": {},
   "outputs": [],
   "source": []
  }
 ],
 "metadata": {
  "kernelspec": {
   "display_name": "Python 3",
   "language": "python",
   "name": "python3"
  },
  "language_info": {
   "codemirror_mode": {
    "name": "ipython",
    "version": 3
   },
   "file_extension": ".py",
   "mimetype": "text/x-python",
   "name": "python",
   "nbconvert_exporter": "python",
   "pygments_lexer": "ipython3",
   "version": "3.11.7"
  }
 },
 "nbformat": 4,
 "nbformat_minor": 2
}
