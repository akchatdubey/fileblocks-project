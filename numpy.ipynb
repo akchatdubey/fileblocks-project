{
 "cells": [
  {
   "cell_type": "code",
   "execution_count": 1,
   "metadata": {},
   "outputs": [
    {
     "name": "stdout",
     "output_type": "stream",
     "text": [
      "1.26.4\n"
     ]
    }
   ],
   "source": [
    "import numpy as np\n",
    "print(np.__version__)\n"
   ]
  },
  {
   "cell_type": "code",
   "execution_count": 2,
   "metadata": {},
   "outputs": [
    {
     "name": "stdout",
     "output_type": "stream",
     "text": [
      "[1 2 3]\n",
      "<class 'numpy.ndarray'>\n"
     ]
    }
   ],
   "source": [
    "a=np.array([1,2,3])\n",
    "print(a)\n",
    "print(type(a))\n"
   ]
  },
  {
   "cell_type": "code",
   "execution_count": 6,
   "metadata": {},
   "outputs": [
    {
     "name": "stdout",
     "output_type": "stream",
     "text": [
      "[[1 2 3]\n",
      " [4 5 6]]\n"
     ]
    }
   ],
   "source": [
    "#ndarray = np.dimensionalarray\n",
    "a=np.array([(1,2,3),(4,5,6)])\n",
    "print(a)\n"
   ]
  },
  {
   "cell_type": "code",
   "execution_count": 9,
   "metadata": {},
   "outputs": [
    {
     "name": "stdout",
     "output_type": "stream",
     "text": [
      "[[1 4]\n",
      " [2 5]\n",
      " [3 6]]\n",
      "[[1 2 3]\n",
      " [4 5 6]]\n",
      "21\n"
     ]
    }
   ],
   "source": [
    "n1=np.array([1,2,3])\n",
    "n2=np.array([4,5,6])\n",
    "print(np.column_stack((n1,n2)))\n",
    "print(np.row_stack((n1,n2)))\n",
    "print(np.sum([n1,n2]))"
   ]
  },
  {
   "cell_type": "code",
   "execution_count": 10,
   "metadata": {},
   "outputs": [
    {
     "name": "stdout",
     "output_type": "stream",
     "text": [
      "[ 2.71828183  7.3890561  20.08553692]\n"
     ]
    }
   ],
   "source": [
    "values=np.array([1,2,3])\n",
    "exp_values=np.exp(values)\n",
    "print(exp_values)"
   ]
  },
  {
   "cell_type": "code",
   "execution_count": null,
   "metadata": {},
   "outputs": [],
   "source": [
    "values=np.array([1.5,2.3,3.7])\n"
   ]
  },
  {
   "cell_type": "code",
   "execution_count": 1,
   "metadata": {},
   "outputs": [
    {
     "name": "stdout",
     "output_type": "stream",
     "text": [
      "1-D array shape: (5,)\n",
      "2-D array shape: (2, 3)\n",
      "3-D array shape: (2, 2, 2)\n"
     ]
    }
   ],
   "source": [
    "import numpy as np\n",
    "\n",
    "# 1-D array\n",
    "array_1d = np.array([1, 2, 3, 4, 5])\n",
    "print(\"1-D array shape:\", array_1d.shape)\n",
    "\n",
    "# 2-D array\n",
    "array_2d = np.array([[1, 2, 3], [4, 5, 6]])\n",
    "print(\"2-D array shape:\", array_2d.shape)\n",
    "\n",
    "# 3-D array\n",
    "array_3d = np.array([[[1, 2], [3, 4]], [[5, 6], [7, 8]]])\n",
    "print(\"3-D array shape:\", array_3d.shape)\n"
   ]
  },
  {
   "cell_type": "code",
   "execution_count": 2,
   "metadata": {},
   "outputs": [
    {
     "name": "stdout",
     "output_type": "stream",
     "text": [
      "Reshaped array (2x3):\n",
      "[[1 2 3]\n",
      " [4 5 6]]\n",
      "Reshaped array (3x2):\n",
      "[[1 2]\n",
      " [3 4]\n",
      " [5 6]]\n",
      "Reshaped array (2x3x1):\n",
      "[[[1]\n",
      "  [2]\n",
      "  [3]]\n",
      "\n",
      " [[4]\n",
      "  [5]\n",
      "  [6]]]\n"
     ]
    }
   ],
   "source": [
    "# Original 1-D array\n",
    "array_1d = np.array([1, 2, 3, 4, 5, 6])\n",
    "\n",
    "# Reshape into a 2x3 array\n",
    "array_reshaped = array_1d.reshape((2, 3))\n",
    "print(\"Reshaped array (2x3):\")\n",
    "print(array_reshaped)\n",
    "\n",
    "# Reshape into a 3x2 array\n",
    "array_reshaped_2 = array_1d.reshape((3, 2))\n",
    "print(\"Reshaped array (3x2):\")\n",
    "print(array_reshaped_2)\n",
    "\n",
    "# Reshaping into a 3-D array\n",
    "array_reshaped_3d = array_1d.reshape((2, 3, 1))\n",
    "print(\"Reshaped array (2x3x1):\")\n",
    "print(array_reshaped_3d)\n"
   ]
  }
 ],
 "metadata": {
  "kernelspec": {
   "display_name": "Python 3",
   "language": "python",
   "name": "python3"
  },
  "language_info": {
   "codemirror_mode": {
    "name": "ipython",
    "version": 3
   },
   "file_extension": ".py",
   "mimetype": "text/x-python",
   "name": "python",
   "nbconvert_exporter": "python",
   "pygments_lexer": "ipython3",
   "version": "3.11.5"
  }
 },
 "nbformat": 4,
 "nbformat_minor": 2
}
